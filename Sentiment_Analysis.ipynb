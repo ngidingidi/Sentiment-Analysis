{
 "cells": [
  {
   "cell_type": "markdown",
   "metadata": {},
   "source": [
    "This notebook will implement a machine learning algorithm which predicts the review score of a product given the text of the product review on a scale of 1-10. The dataset was compiled from boargame geek website by the organizer of the Portland Data Science Meetup Group. Over 800 000 labeled reviews were given as training data"
   ]
  },
  {
   "cell_type": "markdown",
   "metadata": {},
   "source": [
    "Import necessary modules"
   ]
  },
  {
   "cell_type": "code",
   "execution_count": 1,
   "metadata": {},
   "outputs": [],
   "source": [
    "import os\n",
    "import pandas as pd\n",
    "import matplotlib.pyplot as plt\n",
    "import seaborn as sns\n",
    "import numpy as np\n",
    "%matplotlib inline\n",
    "import warnings\n",
    "warnings.filterwarnings('ignore')"
   ]
  },
  {
   "cell_type": "code",
   "execution_count": 2,
   "metadata": {},
   "outputs": [
    {
     "data": {
      "text/html": [
       "<div>\n",
       "<style scoped>\n",
       "    .dataframe tbody tr th:only-of-type {\n",
       "        vertical-align: middle;\n",
       "    }\n",
       "\n",
       "    .dataframe tbody tr th {\n",
       "        vertical-align: top;\n",
       "    }\n",
       "\n",
       "    .dataframe thead th {\n",
       "        text-align: right;\n",
       "    }\n",
       "</style>\n",
       "<table border=\"1\" class=\"dataframe\">\n",
       "  <thead>\n",
       "    <tr style=\"text-align: right;\">\n",
       "      <th></th>\n",
       "      <th>Compiled from boardgamegeek.com by Matt Borthwick</th>\n",
       "      <th>gameID</th>\n",
       "      <th>rating</th>\n",
       "      <th>comment</th>\n",
       "    </tr>\n",
       "  </thead>\n",
       "  <tbody>\n",
       "    <tr>\n",
       "      <th>0</th>\n",
       "      <td>25308</td>\n",
       "      <td>37111</td>\n",
       "      <td>8.5</td>\n",
       "      <td>++++ Thematic +++ Bluff - Many randomness   I ...</td>\n",
       "    </tr>\n",
       "    <tr>\n",
       "      <th>1</th>\n",
       "      <td>54313</td>\n",
       "      <td>12</td>\n",
       "      <td>8.0</td>\n",
       "      <td>\"well, that ugly artwork certainly helped imme...</td>\n",
       "    </tr>\n",
       "    <tr>\n",
       "      <th>2</th>\n",
       "      <td>38165</td>\n",
       "      <td>50</td>\n",
       "      <td>8.0</td>\n",
       "      <td>LOVE this game!  If only the GF would play it ...</td>\n",
       "    </tr>\n",
       "    <tr>\n",
       "      <th>3</th>\n",
       "      <td>56936</td>\n",
       "      <td>1198</td>\n",
       "      <td>5.0</td>\n",
       "      <td>SET is a good game, in small doses (in my case...</td>\n",
       "    </tr>\n",
       "    <tr>\n",
       "      <th>4</th>\n",
       "      <td>47675</td>\n",
       "      <td>164153</td>\n",
       "      <td>6.0</td>\n",
       "      <td>So much better than Descent. Better theme, imp...</td>\n",
       "    </tr>\n",
       "  </tbody>\n",
       "</table>\n",
       "</div>"
      ],
      "text/plain": [
       "   Compiled from boardgamegeek.com by Matt Borthwick  gameID  rating  \\\n",
       "0                                              25308   37111     8.5   \n",
       "1                                              54313      12     8.0   \n",
       "2                                              38165      50     8.0   \n",
       "3                                              56936    1198     5.0   \n",
       "4                                              47675  164153     6.0   \n",
       "\n",
       "                                             comment  \n",
       "0  ++++ Thematic +++ Bluff - Many randomness   I ...  \n",
       "1  \"well, that ugly artwork certainly helped imme...  \n",
       "2  LOVE this game!  If only the GF would play it ...  \n",
       "3  SET is a good game, in small doses (in my case...  \n",
       "4  So much better than Descent. Better theme, imp...  "
      ]
     },
     "execution_count": 2,
     "metadata": {},
     "output_type": "execute_result"
    }
   ],
   "source": [
    "# Open the file using pandas\n",
    "df = pd.read_csv('C:\\\\Users\\\\sicel\\\\Desktop\\\\Portland Data Science\\\\Sentiment Analysis\\\\boardgame-comments-sample.csv')\n",
    "df.head()"
   ]
  },
  {
   "cell_type": "code",
   "execution_count": 3,
   "metadata": {},
   "outputs": [
    {
     "name": "stdout",
     "output_type": "stream",
     "text": [
      "<class 'pandas.core.frame.DataFrame'>\n",
      "RangeIndex: 847 entries, 0 to 846\n",
      "Data columns (total 4 columns):\n",
      "Compiled from boardgamegeek.com by Matt Borthwick    847 non-null int64\n",
      "gameID                                               847 non-null int64\n",
      "rating                                               847 non-null float64\n",
      "comment                                              847 non-null object\n",
      "dtypes: float64(1), int64(2), object(1)\n",
      "memory usage: 26.5+ KB\n"
     ]
    }
   ],
   "source": [
    "# Explore the data file. Print out summary information about the dataframe\n",
    "df.info()"
   ]
  },
  {
   "cell_type": "code",
   "execution_count": 4,
   "metadata": {},
   "outputs": [
    {
     "data": {
      "text/plain": [
       "(847, 4)"
      ]
     },
     "execution_count": 4,
     "metadata": {},
     "output_type": "execute_result"
    }
   ],
   "source": [
    "df.shape"
   ]
  },
  {
   "cell_type": "code",
   "execution_count": 5,
   "metadata": {},
   "outputs": [
    {
     "data": {
      "text/html": [
       "<div>\n",
       "<style scoped>\n",
       "    .dataframe tbody tr th:only-of-type {\n",
       "        vertical-align: middle;\n",
       "    }\n",
       "\n",
       "    .dataframe tbody tr th {\n",
       "        vertical-align: top;\n",
       "    }\n",
       "\n",
       "    .dataframe thead th {\n",
       "        text-align: right;\n",
       "    }\n",
       "</style>\n",
       "<table border=\"1\" class=\"dataframe\">\n",
       "  <thead>\n",
       "    <tr style=\"text-align: right;\">\n",
       "      <th></th>\n",
       "      <th>Compiled from boardgamegeek.com by Matt Borthwick</th>\n",
       "      <th>gameID</th>\n",
       "      <th>rating</th>\n",
       "    </tr>\n",
       "  </thead>\n",
       "  <tbody>\n",
       "    <tr>\n",
       "      <th>count</th>\n",
       "      <td>847.000000</td>\n",
       "      <td>847.000000</td>\n",
       "      <td>847.000000</td>\n",
       "    </tr>\n",
       "    <tr>\n",
       "      <th>mean</th>\n",
       "      <td>94206.848878</td>\n",
       "      <td>48229.654073</td>\n",
       "      <td>7.251677</td>\n",
       "    </tr>\n",
       "    <tr>\n",
       "      <th>std</th>\n",
       "      <td>56362.226969</td>\n",
       "      <td>55017.276809</td>\n",
       "      <td>1.679171</td>\n",
       "    </tr>\n",
       "    <tr>\n",
       "      <th>min</th>\n",
       "      <td>319.000000</td>\n",
       "      <td>3.000000</td>\n",
       "      <td>1.000000</td>\n",
       "    </tr>\n",
       "    <tr>\n",
       "      <th>25%</th>\n",
       "      <td>43919.000000</td>\n",
       "      <td>2223.000000</td>\n",
       "      <td>6.000000</td>\n",
       "    </tr>\n",
       "    <tr>\n",
       "      <th>50%</th>\n",
       "      <td>93257.000000</td>\n",
       "      <td>25613.000000</td>\n",
       "      <td>7.500000</td>\n",
       "    </tr>\n",
       "    <tr>\n",
       "      <th>75%</th>\n",
       "      <td>143787.000000</td>\n",
       "      <td>84876.000000</td>\n",
       "      <td>8.000000</td>\n",
       "    </tr>\n",
       "    <tr>\n",
       "      <th>max</th>\n",
       "      <td>193115.000000</td>\n",
       "      <td>209010.000000</td>\n",
       "      <td>10.000000</td>\n",
       "    </tr>\n",
       "  </tbody>\n",
       "</table>\n",
       "</div>"
      ],
      "text/plain": [
       "       Compiled from boardgamegeek.com by Matt Borthwick         gameID  \\\n",
       "count                                         847.000000     847.000000   \n",
       "mean                                        94206.848878   48229.654073   \n",
       "std                                         56362.226969   55017.276809   \n",
       "min                                           319.000000       3.000000   \n",
       "25%                                         43919.000000    2223.000000   \n",
       "50%                                         93257.000000   25613.000000   \n",
       "75%                                        143787.000000   84876.000000   \n",
       "max                                        193115.000000  209010.000000   \n",
       "\n",
       "           rating  \n",
       "count  847.000000  \n",
       "mean     7.251677  \n",
       "std      1.679171  \n",
       "min      1.000000  \n",
       "25%      6.000000  \n",
       "50%      7.500000  \n",
       "75%      8.000000  \n",
       "max     10.000000  "
      ]
     },
     "execution_count": 5,
     "metadata": {},
     "output_type": "execute_result"
    }
   ],
   "source": [
    "df.describe()"
   ]
  },
  {
   "cell_type": "code",
   "execution_count": 6,
   "metadata": {},
   "outputs": [],
   "source": [
    "# lowercase all comments and rename 'long column'\n",
    "df['comment'] = df.comment.str.lower()\n",
    "df = df.rename(columns = {'Compiled from boardgamegeek.com by Matt Borthwick': 'userid'})"
   ]
  },
  {
   "cell_type": "code",
   "execution_count": 7,
   "metadata": {},
   "outputs": [
    {
     "data": {
      "text/html": [
       "<div>\n",
       "<style scoped>\n",
       "    .dataframe tbody tr th:only-of-type {\n",
       "        vertical-align: middle;\n",
       "    }\n",
       "\n",
       "    .dataframe tbody tr th {\n",
       "        vertical-align: top;\n",
       "    }\n",
       "\n",
       "    .dataframe thead th {\n",
       "        text-align: right;\n",
       "    }\n",
       "</style>\n",
       "<table border=\"1\" class=\"dataframe\">\n",
       "  <thead>\n",
       "    <tr style=\"text-align: right;\">\n",
       "      <th></th>\n",
       "      <th>userid</th>\n",
       "      <th>gameID</th>\n",
       "      <th>rating</th>\n",
       "      <th>comment</th>\n",
       "      <th>length</th>\n",
       "    </tr>\n",
       "  </thead>\n",
       "  <tbody>\n",
       "    <tr>\n",
       "      <th>0</th>\n",
       "      <td>25308</td>\n",
       "      <td>37111</td>\n",
       "      <td>8.5</td>\n",
       "      <td>++++ thematic +++ bluff - many randomness   i ...</td>\n",
       "      <td>255</td>\n",
       "    </tr>\n",
       "    <tr>\n",
       "      <th>1</th>\n",
       "      <td>54313</td>\n",
       "      <td>12</td>\n",
       "      <td>8.0</td>\n",
       "      <td>\"well, that ugly artwork certainly helped imme...</td>\n",
       "      <td>100</td>\n",
       "    </tr>\n",
       "    <tr>\n",
       "      <th>2</th>\n",
       "      <td>38165</td>\n",
       "      <td>50</td>\n",
       "      <td>8.0</td>\n",
       "      <td>love this game!  if only the gf would play it ...</td>\n",
       "      <td>103</td>\n",
       "    </tr>\n",
       "    <tr>\n",
       "      <th>3</th>\n",
       "      <td>56936</td>\n",
       "      <td>1198</td>\n",
       "      <td>5.0</td>\n",
       "      <td>set is a good game, in small doses (in my case...</td>\n",
       "      <td>374</td>\n",
       "    </tr>\n",
       "    <tr>\n",
       "      <th>4</th>\n",
       "      <td>47675</td>\n",
       "      <td>164153</td>\n",
       "      <td>6.0</td>\n",
       "      <td>so much better than descent. better theme, imp...</td>\n",
       "      <td>329</td>\n",
       "    </tr>\n",
       "  </tbody>\n",
       "</table>\n",
       "</div>"
      ],
      "text/plain": [
       "   userid  gameID  rating                                            comment  \\\n",
       "0   25308   37111     8.5  ++++ thematic +++ bluff - many randomness   i ...   \n",
       "1   54313      12     8.0  \"well, that ugly artwork certainly helped imme...   \n",
       "2   38165      50     8.0  love this game!  if only the gf would play it ...   \n",
       "3   56936    1198     5.0  set is a good game, in small doses (in my case...   \n",
       "4   47675  164153     6.0  so much better than descent. better theme, imp...   \n",
       "\n",
       "   length  \n",
       "0     255  \n",
       "1     100  \n",
       "2     103  \n",
       "3     374  \n",
       "4     329  "
      ]
     },
     "execution_count": 7,
     "metadata": {},
     "output_type": "execute_result"
    }
   ],
   "source": [
    "# Create a comment length column\n",
    "df['length'] = df.comment.apply(lambda x: len(x))\n",
    "df.head()"
   ]
  },
  {
   "cell_type": "code",
   "execution_count": 8,
   "metadata": {},
   "outputs": [
    {
     "data": {
      "text/plain": [
       "Text(0,0.5,'Count')"
      ]
     },
     "execution_count": 8,
     "metadata": {},
     "output_type": "execute_result"
    },
    {
     "data": {
      "image/png": "[encoded data removed]",
      "text/plain": [
       "<Figure size 1080x432 with 1 Axes>"
      ]
     },
     "metadata": {
      "needs_background": "light"
     },
     "output_type": "display_data"
    }
   ],
   "source": [
    "# Create a histogram of column length\n",
    "from pylab import rcParams\n",
    "rcParams['figure.figsize'] = 15,6\n",
    "plt.hist(df['length'], color = 'blue', edgecolor = 'black', bins = 50)\n",
    "plt.xlabel('length')\n",
    "plt.ylabel('Count')"
   ]
  },
  {
   "cell_type": "markdown",
   "metadata": {},
   "source": [
    "As can be seen from the histogram, most of the comments contain 1-1000 characters. It has a skewed to the left kind of distribution. Let's zoom in around the distribution"
   ]
  },
  {
   "cell_type": "code",
   "execution_count": 9,
   "metadata": {},
   "outputs": [
    {
     "data": {
      "text/plain": [
       "Text(0,0.5,'Count')"
      ]
     },
     "execution_count": 9,
     "metadata": {},
     "output_type": "execute_result"
    },
    {
     "data": {
      "image/png": "[encoded data removed]",
      "text/plain": [
       "<Figure size 1080x432 with 1 Axes>"
      ]
     },
     "metadata": {
      "needs_background": "light"
     },
     "output_type": "display_data"
    }
   ],
   "source": [
    "plt.hist(df['length'], color = 'blue', edgecolor = 'black', bins = 50)\n",
    "plt.xlabel('length')\n",
    "plt.xlim(0,2000)\n",
    "plt.ylabel('Count')"
   ]
  },
  {
   "cell_type": "markdown",
   "metadata": {},
   "source": [
    "Now I would like to plot the histrogram distribution of comment review scores/ratings. The distribution is more skewed to the right and looks Normal on the right"
   ]
  },
  {
   "cell_type": "code",
   "execution_count": 10,
   "metadata": {},
   "outputs": [
    {
     "data": {
      "text/plain": [
       "Text(0,0.5,'Count')"
      ]
     },
     "execution_count": 10,
     "metadata": {},
     "output_type": "execute_result"
    },
    {
     "data": {
      "image/png": "[encoded data removed]",
      "text/plain": [
       "<Figure size 1080x432 with 1 Axes>"
      ]
     },
     "metadata": {
      "needs_background": "light"
     },
     "output_type": "display_data"
    }
   ],
   "source": [
    "plt.hist(df['rating'], color = 'blue', edgecolor = 'black', bins = 50)\n",
    "plt.xlabel('Rating')\n",
    "plt.ylabel('Count')"
   ]
  },
  {
   "cell_type": "markdown",
   "metadata": {},
   "source": [
    "Figured it might be easier to work with integer ratings rather than floats"
   ]
  },
  {
   "cell_type": "code",
   "execution_count": 11,
   "metadata": {},
   "outputs": [],
   "source": [
    "df['rating'] = df['rating'].apply(round)"
   ]
  },
  {
   "cell_type": "markdown",
   "metadata": {},
   "source": [
    "It is better to work with text which has stopwords removed"
   ]
  },
  {
   "cell_type": "code",
   "execution_count": 12,
   "metadata": {},
   "outputs": [
    {
     "name": "stdout",
     "output_type": "stream",
     "text": [
      "[nltk_data] Downloading package stopwords to\n",
      "[nltk_data]     C:\\Users\\sicel\\AppData\\Roaming\\nltk_data...\n",
      "[nltk_data]   Package stopwords is already up-to-date!\n"
     ]
    },
    {
     "data": {
      "text/html": [
       "<div>\n",
       "<style scoped>\n",
       "    .dataframe tbody tr th:only-of-type {\n",
       "        vertical-align: middle;\n",
       "    }\n",
       "\n",
       "    .dataframe tbody tr th {\n",
       "        vertical-align: top;\n",
       "    }\n",
       "\n",
       "    .dataframe thead th {\n",
       "        text-align: right;\n",
       "    }\n",
       "</style>\n",
       "<table border=\"1\" class=\"dataframe\">\n",
       "  <thead>\n",
       "    <tr style=\"text-align: right;\">\n",
       "      <th></th>\n",
       "      <th>userid</th>\n",
       "      <th>gameID</th>\n",
       "      <th>rating</th>\n",
       "      <th>comment</th>\n",
       "      <th>length</th>\n",
       "      <th>comment_no_stopwords</th>\n",
       "    </tr>\n",
       "  </thead>\n",
       "  <tbody>\n",
       "    <tr>\n",
       "      <th>0</th>\n",
       "      <td>25308</td>\n",
       "      <td>37111</td>\n",
       "      <td>8</td>\n",
       "      <td>++++ thematic +++ bluff - many randomness   i ...</td>\n",
       "      <td>255</td>\n",
       "      <td>++++ thematic +++ bluff - many randomness real...</td>\n",
       "    </tr>\n",
       "    <tr>\n",
       "      <th>1</th>\n",
       "      <td>54313</td>\n",
       "      <td>12</td>\n",
       "      <td>8</td>\n",
       "      <td>\"well, that ugly artwork certainly helped imme...</td>\n",
       "      <td>100</td>\n",
       "      <td>\"well, ugly artwork certainly helped immerse e...</td>\n",
       "    </tr>\n",
       "    <tr>\n",
       "      <th>2</th>\n",
       "      <td>38165</td>\n",
       "      <td>50</td>\n",
       "      <td>8</td>\n",
       "      <td>love this game!  if only the gf would play it ...</td>\n",
       "      <td>103</td>\n",
       "      <td>love game! gf would play me. tired end day bas...</td>\n",
       "    </tr>\n",
       "    <tr>\n",
       "      <th>3</th>\n",
       "      <td>56936</td>\n",
       "      <td>1198</td>\n",
       "      <td>5</td>\n",
       "      <td>set is a good game, in small doses (in my case...</td>\n",
       "      <td>374</td>\n",
       "      <td>set good game, small doses (in case small dose...</td>\n",
       "    </tr>\n",
       "    <tr>\n",
       "      <th>4</th>\n",
       "      <td>47675</td>\n",
       "      <td>164153</td>\n",
       "      <td>6</td>\n",
       "      <td>so much better than descent. better theme, imp...</td>\n",
       "      <td>329</td>\n",
       "      <td>much better descent. better theme, improved ru...</td>\n",
       "    </tr>\n",
       "  </tbody>\n",
       "</table>\n",
       "</div>"
      ],
      "text/plain": [
       "   userid  gameID  rating                                            comment  \\\n",
       "0   25308   37111       8  ++++ thematic +++ bluff - many randomness   i ...   \n",
       "1   54313      12       8  \"well, that ugly artwork certainly helped imme...   \n",
       "2   38165      50       8  love this game!  if only the gf would play it ...   \n",
       "3   56936    1198       5  set is a good game, in small doses (in my case...   \n",
       "4   47675  164153       6  so much better than descent. better theme, imp...   \n",
       "\n",
       "   length                               comment_no_stopwords  \n",
       "0     255  ++++ thematic +++ bluff - many randomness real...  \n",
       "1     100  \"well, ugly artwork certainly helped immerse e...  \n",
       "2     103  love game! gf would play me. tired end day bas...  \n",
       "3     374  set good game, small doses (in case small dose...  \n",
       "4     329  much better descent. better theme, improved ru...  "
      ]
     },
     "execution_count": 12,
     "metadata": {},
     "output_type": "execute_result"
    }
   ],
   "source": [
    "import nltk\n",
    "nltk.download('stopwords')\n",
    "stopwords = nltk.corpus.stopwords.words('english')\n",
    "df['comment_no_stopwords'] = df['comment'].apply(lambda x: ' '.join([word for word in x.split() if word not in (stopwords)]))\n",
    "df.head()"
   ]
  },
  {
   "cell_type": "markdown",
   "metadata": {},
   "source": [
    "Makes sense to check if there are any correlations between numeric columns. No strong correlations observed"
   ]
  },
  {
   "cell_type": "code",
   "execution_count": 13,
   "metadata": {},
   "outputs": [
    {
     "data": {
      "text/html": [
       "<div>\n",
       "<style scoped>\n",
       "    .dataframe tbody tr th:only-of-type {\n",
       "        vertical-align: middle;\n",
       "    }\n",
       "\n",
       "    .dataframe tbody tr th {\n",
       "        vertical-align: top;\n",
       "    }\n",
       "\n",
       "    .dataframe thead th {\n",
       "        text-align: right;\n",
       "    }\n",
       "</style>\n",
       "<table border=\"1\" class=\"dataframe\">\n",
       "  <thead>\n",
       "    <tr style=\"text-align: right;\">\n",
       "      <th></th>\n",
       "      <th>userid</th>\n",
       "      <th>gameID</th>\n",
       "      <th>rating</th>\n",
       "      <th>length</th>\n",
       "    </tr>\n",
       "  </thead>\n",
       "  <tbody>\n",
       "    <tr>\n",
       "      <th>userid</th>\n",
       "      <td>1.000000</td>\n",
       "      <td>-0.007805</td>\n",
       "      <td>-0.017345</td>\n",
       "      <td>0.006752</td>\n",
       "    </tr>\n",
       "    <tr>\n",
       "      <th>gameID</th>\n",
       "      <td>-0.007805</td>\n",
       "      <td>1.000000</td>\n",
       "      <td>0.203491</td>\n",
       "      <td>0.079922</td>\n",
       "    </tr>\n",
       "    <tr>\n",
       "      <th>rating</th>\n",
       "      <td>-0.017345</td>\n",
       "      <td>0.203491</td>\n",
       "      <td>1.000000</td>\n",
       "      <td>-0.016838</td>\n",
       "    </tr>\n",
       "    <tr>\n",
       "      <th>length</th>\n",
       "      <td>0.006752</td>\n",
       "      <td>0.079922</td>\n",
       "      <td>-0.016838</td>\n",
       "      <td>1.000000</td>\n",
       "    </tr>\n",
       "  </tbody>\n",
       "</table>\n",
       "</div>"
      ],
      "text/plain": [
       "          userid    gameID    rating    length\n",
       "userid  1.000000 -0.007805 -0.017345  0.006752\n",
       "gameID -0.007805  1.000000  0.203491  0.079922\n",
       "rating -0.017345  0.203491  1.000000 -0.016838\n",
       "length  0.006752  0.079922 -0.016838  1.000000"
      ]
     },
     "execution_count": 13,
     "metadata": {},
     "output_type": "execute_result"
    }
   ],
   "source": [
    "df.corr()"
   ]
  },
  {
   "cell_type": "markdown",
   "metadata": {},
   "source": [
    "I decided to divide the dataset into 3 core classes and turn this into a classification problem for simplicity. The goal is to apply a machine learning model which can predict the comment rating for each category/class"
   ]
  },
  {
   "cell_type": "code",
   "execution_count": 14,
   "metadata": {},
   "outputs": [
    {
     "data": {
      "text/html": [
       "<div>\n",
       "<style scoped>\n",
       "    .dataframe tbody tr th:only-of-type {\n",
       "        vertical-align: middle;\n",
       "    }\n",
       "\n",
       "    .dataframe tbody tr th {\n",
       "        vertical-align: top;\n",
       "    }\n",
       "\n",
       "    .dataframe thead th {\n",
       "        text-align: right;\n",
       "    }\n",
       "</style>\n",
       "<table border=\"1\" class=\"dataframe\">\n",
       "  <thead>\n",
       "    <tr style=\"text-align: right;\">\n",
       "      <th></th>\n",
       "      <th>userid</th>\n",
       "      <th>gameID</th>\n",
       "      <th>rating</th>\n",
       "      <th>comment</th>\n",
       "      <th>length</th>\n",
       "      <th>comment_no_stopwords</th>\n",
       "      <th>cat_rating</th>\n",
       "    </tr>\n",
       "  </thead>\n",
       "  <tbody>\n",
       "    <tr>\n",
       "      <th>842</th>\n",
       "      <td>157377</td>\n",
       "      <td>144733</td>\n",
       "      <td>8</td>\n",
       "      <td>the more i play, the more i love this game.</td>\n",
       "      <td>44</td>\n",
       "      <td>play, love game.</td>\n",
       "      <td>8</td>\n",
       "    </tr>\n",
       "    <tr>\n",
       "      <th>843</th>\n",
       "      <td>165589</td>\n",
       "      <td>40692</td>\n",
       "      <td>7</td>\n",
       "      <td>my first venture into the hobby and boy, am i ...</td>\n",
       "      <td>287</td>\n",
       "      <td>first venture hobby boy, glad did. close frien...</td>\n",
       "      <td>8</td>\n",
       "    </tr>\n",
       "    <tr>\n",
       "      <th>844</th>\n",
       "      <td>824</td>\n",
       "      <td>158899</td>\n",
       "      <td>8</td>\n",
       "      <td>one of the best \"family style\" games out there...</td>\n",
       "      <td>206</td>\n",
       "      <td>one best \"family style\" games there. love prog...</td>\n",
       "      <td>8</td>\n",
       "    </tr>\n",
       "    <tr>\n",
       "      <th>845</th>\n",
       "      <td>90173</td>\n",
       "      <td>8217</td>\n",
       "      <td>7</td>\n",
       "      <td>nice little game for two players.  an english ...</td>\n",
       "      <td>71</td>\n",
       "      <td>nice little game two players. english paste-up...</td>\n",
       "      <td>8</td>\n",
       "    </tr>\n",
       "    <tr>\n",
       "      <th>846</th>\n",
       "      <td>109519</td>\n",
       "      <td>13</td>\n",
       "      <td>7</td>\n",
       "      <td>the vanilla version of this game has it's flaw...</td>\n",
       "      <td>144</td>\n",
       "      <td>vanilla version game flaws. enjoyed past, ever...</td>\n",
       "      <td>8</td>\n",
       "    </tr>\n",
       "  </tbody>\n",
       "</table>\n",
       "</div>"
      ],
      "text/plain": [
       "     userid  gameID  rating  \\\n",
       "842  157377  144733       8   \n",
       "843  165589   40692       7   \n",
       "844     824  158899       8   \n",
       "845   90173    8217       7   \n",
       "846  109519      13       7   \n",
       "\n",
       "                                               comment  length  \\\n",
       "842       the more i play, the more i love this game.       44   \n",
       "843  my first venture into the hobby and boy, am i ...     287   \n",
       "844  one of the best \"family style\" games out there...     206   \n",
       "845  nice little game for two players.  an english ...      71   \n",
       "846  the vanilla version of this game has it's flaw...     144   \n",
       "\n",
       "                                  comment_no_stopwords  cat_rating  \n",
       "842                                   play, love game.           8  \n",
       "843  first venture hobby boy, glad did. close frien...           8  \n",
       "844  one best \"family style\" games there. love prog...           8  \n",
       "845  nice little game two players. english paste-up...           8  \n",
       "846  vanilla version game flaws. enjoyed past, ever...           8  "
      ]
     },
     "execution_count": 14,
     "metadata": {},
     "output_type": "execute_result"
    }
   ],
   "source": [
    "# Create 3 category groups: negative (1-4 rating), neutral (5), and positive (6-10)\n",
    "df_pos = df[(df['rating'] >=6) & (df['rating'] <= 10)]\n",
    "# Give this category a numerical score of 8\n",
    "df_pos['cat_rating'] = df_pos.apply(lambda row: 8 if row['rating'] <= 10 else 0, axis = 1)\n",
    "df_pos.tail()"
   ]
  },
  {
   "cell_type": "code",
   "execution_count": 15,
   "metadata": {},
   "outputs": [],
   "source": [
    "df_neut = df[(df['rating'] == 5)]\n",
    "df_neut['cat_rating'] = df_neut.apply(lambda row: 5 if row['rating'] == 5 else 0, axis = 1)"
   ]
  },
  {
   "cell_type": "code",
   "execution_count": 16,
   "metadata": {},
   "outputs": [],
   "source": [
    "df_neg = df[(df['rating'] < 5)]\n",
    "df_neg['cat_rating'] = df_neg.apply(lambda row: 2 if row['rating'] <5 else 0, axis = 1)"
   ]
  },
  {
   "cell_type": "markdown",
   "metadata": {},
   "source": [
    "Concatenate the DataFrames"
   ]
  },
  {
   "cell_type": "code",
   "execution_count": 17,
   "metadata": {},
   "outputs": [
    {
     "data": {
      "text/html": [
       "<div>\n",
       "<style scoped>\n",
       "    .dataframe tbody tr th:only-of-type {\n",
       "        vertical-align: middle;\n",
       "    }\n",
       "\n",
       "    .dataframe tbody tr th {\n",
       "        vertical-align: top;\n",
       "    }\n",
       "\n",
       "    .dataframe thead th {\n",
       "        text-align: right;\n",
       "    }\n",
       "</style>\n",
       "<table border=\"1\" class=\"dataframe\">\n",
       "  <thead>\n",
       "    <tr style=\"text-align: right;\">\n",
       "      <th></th>\n",
       "      <th>userid</th>\n",
       "      <th>gameID</th>\n",
       "      <th>rating</th>\n",
       "      <th>comment</th>\n",
       "      <th>length</th>\n",
       "      <th>comment_no_stopwords</th>\n",
       "      <th>cat_rating</th>\n",
       "    </tr>\n",
       "  </thead>\n",
       "  <tbody>\n",
       "    <tr>\n",
       "      <th>0</th>\n",
       "      <td>25308</td>\n",
       "      <td>37111</td>\n",
       "      <td>8</td>\n",
       "      <td>++++ thematic +++ bluff - many randomness   i ...</td>\n",
       "      <td>255</td>\n",
       "      <td>++++ thematic +++ bluff - many randomness real...</td>\n",
       "      <td>8</td>\n",
       "    </tr>\n",
       "    <tr>\n",
       "      <th>1</th>\n",
       "      <td>54313</td>\n",
       "      <td>12</td>\n",
       "      <td>8</td>\n",
       "      <td>\"well, that ugly artwork certainly helped imme...</td>\n",
       "      <td>100</td>\n",
       "      <td>\"well, ugly artwork certainly helped immerse e...</td>\n",
       "      <td>8</td>\n",
       "    </tr>\n",
       "    <tr>\n",
       "      <th>2</th>\n",
       "      <td>38165</td>\n",
       "      <td>50</td>\n",
       "      <td>8</td>\n",
       "      <td>love this game!  if only the gf would play it ...</td>\n",
       "      <td>103</td>\n",
       "      <td>love game! gf would play me. tired end day bas...</td>\n",
       "      <td>8</td>\n",
       "    </tr>\n",
       "    <tr>\n",
       "      <th>4</th>\n",
       "      <td>47675</td>\n",
       "      <td>164153</td>\n",
       "      <td>6</td>\n",
       "      <td>so much better than descent. better theme, imp...</td>\n",
       "      <td>329</td>\n",
       "      <td>much better descent. better theme, improved ru...</td>\n",
       "      <td>8</td>\n",
       "    </tr>\n",
       "    <tr>\n",
       "      <th>5</th>\n",
       "      <td>94529</td>\n",
       "      <td>31260</td>\n",
       "      <td>8</td>\n",
       "      <td>very tense and fun and i love pondering my str...</td>\n",
       "      <td>149</td>\n",
       "      <td>tense fun love pondering strategy beginning ga...</td>\n",
       "      <td>8</td>\n",
       "    </tr>\n",
       "  </tbody>\n",
       "</table>\n",
       "</div>"
      ],
      "text/plain": [
       "   userid  gameID  rating                                            comment  \\\n",
       "0   25308   37111       8  ++++ thematic +++ bluff - many randomness   i ...   \n",
       "1   54313      12       8  \"well, that ugly artwork certainly helped imme...   \n",
       "2   38165      50       8  love this game!  if only the gf would play it ...   \n",
       "4   47675  164153       6  so much better than descent. better theme, imp...   \n",
       "5   94529   31260       8  very tense and fun and i love pondering my str...   \n",
       "\n",
       "   length                               comment_no_stopwords  cat_rating  \n",
       "0     255  ++++ thematic +++ bluff - many randomness real...           8  \n",
       "1     100  \"well, ugly artwork certainly helped immerse e...           8  \n",
       "2     103  love game! gf would play me. tired end day bas...           8  \n",
       "4     329  much better descent. better theme, improved ru...           8  \n",
       "5     149  tense fun love pondering strategy beginning ga...           8  "
      ]
     },
     "execution_count": 17,
     "metadata": {},
     "output_type": "execute_result"
    }
   ],
   "source": [
    "frames = [df_pos, df_neut, df_neg]\n",
    "df_cat = pd.concat(frames)\n",
    "df_cat.head()"
   ]
  },
  {
   "cell_type": "markdown",
   "metadata": {},
   "source": [
    "I wanted to see if there were significant differences in between the category scores with respect to the length of the review comments. Found that low score comments were longer on average but the difference is not that significant"
   ]
  },
  {
   "cell_type": "code",
   "execution_count": 18,
   "metadata": {},
   "outputs": [
    {
     "data": {
      "text/html": [
       "<div>\n",
       "<style scoped>\n",
       "    .dataframe tbody tr th:only-of-type {\n",
       "        vertical-align: middle;\n",
       "    }\n",
       "\n",
       "    .dataframe tbody tr th {\n",
       "        vertical-align: top;\n",
       "    }\n",
       "\n",
       "    .dataframe thead tr th {\n",
       "        text-align: left;\n",
       "    }\n",
       "</style>\n",
       "<table border=\"1\" class=\"dataframe\">\n",
       "  <thead>\n",
       "    <tr>\n",
       "      <th></th>\n",
       "      <th colspan=\"8\" halign=\"left\">rating</th>\n",
       "      <th colspan=\"5\" halign=\"left\">length</th>\n",
       "      <th colspan=\"8\" halign=\"left\">cat_rating</th>\n",
       "    </tr>\n",
       "    <tr>\n",
       "      <th></th>\n",
       "      <th>count</th>\n",
       "      <th>mean</th>\n",
       "      <th>std</th>\n",
       "      <th>min</th>\n",
       "      <th>25%</th>\n",
       "      <th>50%</th>\n",
       "      <th>75%</th>\n",
       "      <th>max</th>\n",
       "      <th>count</th>\n",
       "      <th>mean</th>\n",
       "      <th>...</th>\n",
       "      <th>75%</th>\n",
       "      <th>max</th>\n",
       "      <th>count</th>\n",
       "      <th>mean</th>\n",
       "      <th>std</th>\n",
       "      <th>min</th>\n",
       "      <th>25%</th>\n",
       "      <th>50%</th>\n",
       "      <th>75%</th>\n",
       "      <th>max</th>\n",
       "    </tr>\n",
       "  </thead>\n",
       "  <tbody>\n",
       "    <tr>\n",
       "      <th>0</th>\n",
       "      <td>53.0</td>\n",
       "      <td>3.018868</td>\n",
       "      <td>1.100534</td>\n",
       "      <td>1.0</td>\n",
       "      <td>2.0</td>\n",
       "      <td>3.0</td>\n",
       "      <td>4.0</td>\n",
       "      <td>4.0</td>\n",
       "      <td>53.0</td>\n",
       "      <td>250.339623</td>\n",
       "      <td>...</td>\n",
       "      <td>327.0</td>\n",
       "      <td>1470.0</td>\n",
       "      <td>53.0</td>\n",
       "      <td>2.0</td>\n",
       "      <td>0.0</td>\n",
       "      <td>2.0</td>\n",
       "      <td>2.0</td>\n",
       "      <td>2.0</td>\n",
       "      <td>2.0</td>\n",
       "      <td>2.0</td>\n",
       "    </tr>\n",
       "    <tr>\n",
       "      <th>1</th>\n",
       "      <td>45.0</td>\n",
       "      <td>5.000000</td>\n",
       "      <td>0.000000</td>\n",
       "      <td>5.0</td>\n",
       "      <td>5.0</td>\n",
       "      <td>5.0</td>\n",
       "      <td>5.0</td>\n",
       "      <td>5.0</td>\n",
       "      <td>45.0</td>\n",
       "      <td>153.888889</td>\n",
       "      <td>...</td>\n",
       "      <td>194.0</td>\n",
       "      <td>848.0</td>\n",
       "      <td>45.0</td>\n",
       "      <td>5.0</td>\n",
       "      <td>0.0</td>\n",
       "      <td>5.0</td>\n",
       "      <td>5.0</td>\n",
       "      <td>5.0</td>\n",
       "      <td>5.0</td>\n",
       "      <td>5.0</td>\n",
       "    </tr>\n",
       "    <tr>\n",
       "      <th>2</th>\n",
       "      <td>749.0</td>\n",
       "      <td>7.696929</td>\n",
       "      <td>1.166719</td>\n",
       "      <td>6.0</td>\n",
       "      <td>7.0</td>\n",
       "      <td>8.0</td>\n",
       "      <td>8.0</td>\n",
       "      <td>10.0</td>\n",
       "      <td>749.0</td>\n",
       "      <td>229.598131</td>\n",
       "      <td>...</td>\n",
       "      <td>262.0</td>\n",
       "      <td>7977.0</td>\n",
       "      <td>749.0</td>\n",
       "      <td>8.0</td>\n",
       "      <td>0.0</td>\n",
       "      <td>8.0</td>\n",
       "      <td>8.0</td>\n",
       "      <td>8.0</td>\n",
       "      <td>8.0</td>\n",
       "      <td>8.0</td>\n",
       "    </tr>\n",
       "  </tbody>\n",
       "</table>\n",
       "<p>3 rows × 24 columns</p>\n",
       "</div>"
      ],
      "text/plain": [
       "  rating                                               length              \\\n",
       "   count      mean       std  min  25%  50%  75%   max  count        mean   \n",
       "0   53.0  3.018868  1.100534  1.0  2.0  3.0  4.0   4.0   53.0  250.339623   \n",
       "1   45.0  5.000000  0.000000  5.0  5.0  5.0  5.0   5.0   45.0  153.888889   \n",
       "2  749.0  7.696929  1.166719  6.0  7.0  8.0  8.0  10.0  749.0  229.598131   \n",
       "\n",
       "  ...                 cat_rating                                     \n",
       "  ...     75%     max      count mean  std  min  25%  50%  75%  max  \n",
       "0 ...   327.0  1470.0       53.0  2.0  0.0  2.0  2.0  2.0  2.0  2.0  \n",
       "1 ...   194.0   848.0       45.0  5.0  0.0  5.0  5.0  5.0  5.0  5.0  \n",
       "2 ...   262.0  7977.0      749.0  8.0  0.0  8.0  8.0  8.0  8.0  8.0  \n",
       "\n",
       "[3 rows x 24 columns]"
      ]
     },
     "execution_count": 18,
     "metadata": {},
     "output_type": "execute_result"
    }
   ],
   "source": [
    "dfz = df_cat[['rating', 'length', 'cat_rating']].groupby('cat_rating', as_index=False)\n",
    "dfz.describe()"
   ]
  },
  {
   "cell_type": "markdown",
   "metadata": {},
   "source": [
    "# ML ALGORITHM TESTING"
   ]
  },
  {
   "cell_type": "markdown",
   "metadata": {},
   "source": [
    "I started applying Random Forest algorithm to the dataset"
   ]
  },
  {
   "cell_type": "code",
   "execution_count": 19,
   "metadata": {},
   "outputs": [
    {
     "name": "stderr",
     "output_type": "stream",
     "text": [
      "C:\\Users\\sicel\\Anaconda3\\lib\\site-packages\\sklearn\\ensemble\\weight_boosting.py:29: DeprecationWarning: numpy.core.umath_tests is an internal NumPy module and should not be imported. It will be removed in a future NumPy release.\n",
      "  from numpy.core.umath_tests import inner1d\n"
     ]
    }
   ],
   "source": [
    "# Import Sklearn Modules\n",
    "from sklearn.model_selection import train_test_split\n",
    "from sklearn.ensemble import RandomForestClassifier\n",
    "from sklearn.naive_bayes import MultinomialNB\n",
    "from sklearn.feature_extraction.text import TfidfVectorizer\n",
    "from sklearn import metrics\n",
    "from sklearn.metrics import mean_squared_error\n",
    "from sklearn.metrics import classification_report, confusion_matrix"
   ]
  },
  {
   "cell_type": "markdown",
   "metadata": {},
   "source": [
    "Split the dataset into 80% training set and 20% training set"
   ]
  },
  {
   "cell_type": "code",
   "execution_count": 20,
   "metadata": {},
   "outputs": [],
   "source": [
    "dfm = df_cat\n",
    "X = dfm['comment_no_stopwords'] # Features\n",
    "y = dfm['cat_rating']  # Labels\n",
    "X_train, X_test, y_train, y_test = train_test_split(X, y, test_size = 0.2, random_state = 100)"
   ]
  },
  {
   "cell_type": "markdown",
   "metadata": {},
   "source": [
    "Use TF-IDF statistic (term frequency-inverse document frequency) to turn comment text into numerical data. TF determines the frequency of a word and IDF decreases the weight for commonly used words and increases the weight of less commonly used words"
   ]
  },
  {
   "cell_type": "code",
   "execution_count": 21,
   "metadata": {},
   "outputs": [
    {
     "name": "stdout",
     "output_type": "stream",
     "text": [
      "Accuracy: 0.9117647058823529\n"
     ]
    },
    {
     "data": {
      "text/plain": [
       "1.7470588235294118"
      ]
     },
     "execution_count": 21,
     "metadata": {},
     "output_type": "execute_result"
    }
   ],
   "source": [
    "tf_vect = TfidfVectorizer(lowercase=True, use_idf=True, smooth_idf=True, sublinear_tf=False)\n",
    "\n",
    "X_train_mt = tf_vect.fit_transform(X_train)\n",
    "X_test_mt = tf_vect.transform(X_test)\n",
    "\n",
    "# Train the model on a training set\n",
    "\n",
    "clf = RandomForestClassifier(n_estimators = 10)\n",
    "clf.fit(X_train_mt, y_train)\n",
    "\n",
    "# Predict on a training dataset\n",
    "\n",
    "y_pred = clf.predict(X_test_mt)\n",
    "\n",
    "# Print the model accuracy score and RMSE\n",
    "\n",
    "print(\"Accuracy:\", metrics.accuracy_score(y_test, y_pred))\n",
    "mean_squared_error(y_test, y_pred)"
   ]
  },
  {
   "cell_type": "markdown",
   "metadata": {},
   "source": [
    "At first glance, an accuracy score of 90% seems really good but there is a catch. Print out the classification report and confusion matrix to see this. The classifier can predict one class (positive class) with high precision but is not very good at predicting the other classes. Is it because the data is skewed to the right as seen in the histogram distribution earlier? In a confusion matrix, correctly predicted values are on the diagonal axis and in this case only one class was correctly predicted. This is a problem!"
   ]
  },
  {
   "cell_type": "code",
   "execution_count": 22,
   "metadata": {},
   "outputs": [
    {
     "name": "stdout",
     "output_type": "stream",
     "text": [
      "             precision    recall  f1-score   support\n",
      "\n",
      "          2       0.00      0.00      0.00         5\n",
      "          5       0.00      0.00      0.00         9\n",
      "          8       0.92      0.99      0.95       156\n",
      "\n",
      "avg / total       0.84      0.91      0.88       170\n",
      "\n"
     ]
    }
   ],
   "source": [
    "print(classification_report(y_test, y_pred))"
   ]
  },
  {
   "cell_type": "code",
   "execution_count": 23,
   "metadata": {},
   "outputs": [
    {
     "name": "stdout",
     "output_type": "stream",
     "text": [
      "[[  0   0   5]\n",
      " [  0   0   9]\n",
      " [  1   0 155]]\n"
     ]
    }
   ],
   "source": [
    "print(confusion_matrix(y_test, y_pred))"
   ]
  },
  {
   "cell_type": "code",
   "execution_count": 24,
   "metadata": {},
   "outputs": [
    {
     "name": "stdout",
     "output_type": "stream",
     "text": [
      "[2 8]\n"
     ]
    }
   ],
   "source": [
    "# You can print out the number of unique elements of an array that the model can predict by the following:\n",
    "\n",
    "print(np.unique(y_pred))"
   ]
  },
  {
   "cell_type": "markdown",
   "metadata": {},
   "source": [
    "Next I wanted to try a different ML algorithm, the Naive Bayes Classifier"
   ]
  },
  {
   "cell_type": "code",
   "execution_count": 25,
   "metadata": {},
   "outputs": [
    {
     "name": "stdout",
     "output_type": "stream",
     "text": [
      "Accuracy: 0.9176470588235294\n"
     ]
    },
    {
     "data": {
      "text/plain": [
       "1.535294117647059"
      ]
     },
     "execution_count": 25,
     "metadata": {},
     "output_type": "execute_result"
    }
   ],
   "source": [
    "# Train\n",
    "\n",
    "X_train2 = tf_vect.fit_transform(X_train)\n",
    "X_test2 = tf_vect.transform(X_test)\n",
    "NBclassifier1 = MultinomialNB()\n",
    "NBclassifier1.fit(X_train2, y_train)\n",
    "\n",
    "# Predict on a training set\n",
    "\n",
    "Y_predict = NBclassifier1.predict(X_test2)\n",
    "\n",
    "# Print accuracy score and RMSE\n",
    "\n",
    "print(\"Accuracy:\", metrics.accuracy_score(y_test, Y_predict))\n",
    "mean_squared_error(y_test, Y_predict)"
   ]
  },
  {
   "cell_type": "markdown",
   "metadata": {},
   "source": [
    "The model has 92% accuracy but is also predicting one majority class really well"
   ]
  },
  {
   "cell_type": "code",
   "execution_count": 26,
   "metadata": {},
   "outputs": [
    {
     "name": "stdout",
     "output_type": "stream",
     "text": [
      "             precision    recall  f1-score   support\n",
      "\n",
      "          2       0.00      0.00      0.00         5\n",
      "          5       0.00      0.00      0.00         9\n",
      "          8       0.92      1.00      0.96       156\n",
      "\n",
      "avg / total       0.84      0.92      0.88       170\n",
      "\n"
     ]
    }
   ],
   "source": [
    "print(classification_report(y_test, Y_predict))"
   ]
  },
  {
   "cell_type": "code",
   "execution_count": 27,
   "metadata": {},
   "outputs": [
    {
     "name": "stdout",
     "output_type": "stream",
     "text": [
      "[[  0   0   5]\n",
      " [  0   0   9]\n",
      " [  0   0 156]]\n"
     ]
    }
   ],
   "source": [
    "print(confusion_matrix(y_test, Y_predict))"
   ]
  },
  {
   "cell_type": "code",
   "execution_count": 28,
   "metadata": {},
   "outputs": [
    {
     "name": "stdout",
     "output_type": "stream",
     "text": [
      "[8]\n"
     ]
    }
   ],
   "source": [
    "print(np.unique(Y_predict))"
   ]
  },
  {
   "cell_type": "markdown",
   "metadata": {},
   "source": [
    "# DEALING WITH IMBALANCED DATASETS"
   ]
  },
  {
   "cell_type": "markdown",
   "metadata": {},
   "source": [
    "To improve the accuracy of the model to predict the other minority classes, we hae to find a way to balnce the data. I found this article to be very helpful: https://elitedatascience.com/imbalanced-classes"
   ]
  },
  {
   "cell_type": "code",
   "execution_count": 29,
   "metadata": {},
   "outputs": [
    {
     "data": {
      "text/plain": [
       "8    749\n",
       "2     53\n",
       "5     45\n",
       "Name: cat_rating, dtype: int64"
      ]
     },
     "execution_count": 29,
     "metadata": {},
     "output_type": "execute_result"
    }
   ],
   "source": [
    "# Start by counting each class to find out where the imbalance is\n",
    "\n",
    "dfm['cat_rating'].value_counts()"
   ]
  },
  {
   "cell_type": "markdown",
   "metadata": {},
   "source": [
    "Approach #1 - Up-sample the minority class"
   ]
  },
  {
   "cell_type": "code",
   "execution_count": 30,
   "metadata": {},
   "outputs": [],
   "source": [
    "from sklearn.utils import resample"
   ]
  },
  {
   "cell_type": "code",
   "execution_count": 31,
   "metadata": {},
   "outputs": [],
   "source": [
    "# Separate each class into its own DataFrame\n",
    "\n",
    "df_majority = dfm[dfm.cat_rating==8]\n",
    "df_neutral = dfm[dfm.cat_rating==5]\n",
    "df_minority = dfm[dfm.cat_rating==2]"
   ]
  },
  {
   "cell_type": "markdown",
   "metadata": {},
   "source": [
    "Upsampling is usually done by resampling with replacement"
   ]
  },
  {
   "cell_type": "code",
   "execution_count": 32,
   "metadata": {},
   "outputs": [
    {
     "data": {
      "text/plain": [
       "749"
      ]
     },
     "execution_count": 32,
     "metadata": {},
     "output_type": "execute_result"
    }
   ],
   "source": [
    "df_minority_upsampled = resample(df_minority,            \n",
    "                                replace=True,                        # sample with replacement\n",
    "                                n_samples=749,                       # to match majority class\n",
    "                                random_state=123)                    # reproducible results\n",
    "df_neutral_upsampled = resample(df_neutral,\n",
    "                               replace=True,\n",
    "                               n_samples=749,\n",
    "                               random_state=123)\n",
    "len(df_minority_upsampled)"
   ]
  },
  {
   "cell_type": "code",
   "execution_count": 33,
   "metadata": {},
   "outputs": [
    {
     "data": {
      "text/plain": [
       "5    749\n",
       "8    749\n",
       "2    749\n",
       "Name: cat_rating, dtype: int64"
      ]
     },
     "execution_count": 33,
     "metadata": {},
     "output_type": "execute_result"
    }
   ],
   "source": [
    "# Concatenate the DataFrames\n",
    "\n",
    "dfm_upsampled = pd.concat([df_majority, df_neutral_upsampled, df_minority_upsampled])\n",
    "dfm_upsampled['cat_rating'].value_counts()"
   ]
  },
  {
   "cell_type": "markdown",
   "metadata": {},
   "source": [
    "Train the ML algorithm this time using the balanced dataset"
   ]
  },
  {
   "cell_type": "code",
   "execution_count": 34,
   "metadata": {},
   "outputs": [
    {
     "name": "stdout",
     "output_type": "stream",
     "text": [
      "Accuracy: 0.9911111111111112\n"
     ]
    },
    {
     "data": {
      "text/plain": [
       "0.2"
      ]
     },
     "execution_count": 34,
     "metadata": {},
     "output_type": "execute_result"
    }
   ],
   "source": [
    "# Model 1 - Random Forest\n",
    "\n",
    "X = dfm_upsampled['comment_no_stopwords'] # Features\n",
    "y = dfm_upsampled['cat_rating']  # Labels\n",
    "X_train, X_test, y_train, y_test = train_test_split(X, y, test_size = 0.2, random_state = 100)\n",
    "\n",
    "tf_vect = TfidfVectorizer(lowercase=True, use_idf=True, smooth_idf=True, sublinear_tf=False)\n",
    "\n",
    "X_train_mt = tf_vect.fit_transform(X_train)\n",
    "X_test_mt = tf_vect.transform(X_test)\n",
    "\n",
    "# Train the model on a training set\n",
    "\n",
    "clf = RandomForestClassifier(n_estimators = 10)\n",
    "clf.fit(X_train_mt, y_train)\n",
    "\n",
    "# Predict on a training dataset\n",
    "\n",
    "y_pred = clf.predict(X_test_mt)\n",
    "\n",
    "# Print the model accuracy score and RMSE\n",
    "\n",
    "print(\"Accuracy:\", metrics.accuracy_score(y_test, y_pred))\n",
    "mean_squared_error(y_test, y_pred)"
   ]
  },
  {
   "cell_type": "markdown",
   "metadata": {},
   "source": [
    "The accuracy score increases. The RMSE is even better. The model is now predicting all 3 classes with a good F1 score"
   ]
  },
  {
   "cell_type": "code",
   "execution_count": 35,
   "metadata": {},
   "outputs": [
    {
     "name": "stdout",
     "output_type": "stream",
     "text": [
      "             precision    recall  f1-score   support\n",
      "\n",
      "          2       0.99      1.00      0.99       153\n",
      "          5       0.99      1.00      0.99       152\n",
      "          8       1.00      0.97      0.99       145\n",
      "\n",
      "avg / total       0.99      0.99      0.99       450\n",
      "\n"
     ]
    }
   ],
   "source": [
    "print(classification_report(y_test, y_pred))"
   ]
  },
  {
   "cell_type": "code",
   "execution_count": 36,
   "metadata": {},
   "outputs": [
    {
     "name": "stdout",
     "output_type": "stream",
     "text": [
      "[[153   0   0]\n",
      " [  0 152   0]\n",
      " [  2   2 141]]\n"
     ]
    }
   ],
   "source": [
    "print(confusion_matrix(y_test, y_pred))"
   ]
  },
  {
   "cell_type": "code",
   "execution_count": 37,
   "metadata": {},
   "outputs": [
    {
     "name": "stdout",
     "output_type": "stream",
     "text": [
      "[2 5 8]\n"
     ]
    }
   ],
   "source": [
    "print(np.unique(y_pred))"
   ]
  },
  {
   "cell_type": "code",
   "execution_count": 38,
   "metadata": {},
   "outputs": [
    {
     "name": "stdout",
     "output_type": "stream",
     "text": [
      "Accuracy: 0.9422222222222222\n"
     ]
    },
    {
     "data": {
      "text/plain": [
       "1.42"
      ]
     },
     "execution_count": 38,
     "metadata": {},
     "output_type": "execute_result"
    }
   ],
   "source": [
    "# Model 2 - Naive Bayes\n",
    "\n",
    "X_train4 = tf_vect.fit_transform(X_train)\n",
    "X_test4 = tf_vect.transform(X_test)\n",
    "NBclassifier2 = MultinomialNB()\n",
    "NBclassifier2.fit(X_train4, y_train)\n",
    "\n",
    "\n",
    "\n",
    "Y_predict3 = NBclassifier2.predict(X_test4)\n",
    "\n",
    "\n",
    "\n",
    "print(\"Accuracy:\", metrics.accuracy_score(y_test, Y_predict3))\n",
    "mean_squared_error(y_test, Y_predict3)"
   ]
  },
  {
   "cell_type": "markdown",
   "metadata": {},
   "source": [
    "The accuracy of the model goes up and RMSE improves. The model is predicting all 3 classes with good F1 scores"
   ]
  },
  {
   "cell_type": "code",
   "execution_count": 39,
   "metadata": {},
   "outputs": [
    {
     "name": "stdout",
     "output_type": "stream",
     "text": [
      "             precision    recall  f1-score   support\n",
      "\n",
      "          2       0.91      1.00      0.95       153\n",
      "          5       0.93      1.00      0.97       152\n",
      "          8       1.00      0.82      0.90       145\n",
      "\n",
      "avg / total       0.95      0.94      0.94       450\n",
      "\n"
     ]
    }
   ],
   "source": [
    "print(classification_report(y_test, Y_predict3))"
   ]
  },
  {
   "cell_type": "code",
   "execution_count": 40,
   "metadata": {},
   "outputs": [
    {
     "name": "stdout",
     "output_type": "stream",
     "text": [
      "[[153   0   0]\n",
      " [  0 152   0]\n",
      " [ 15  11 119]]\n"
     ]
    }
   ],
   "source": [
    "print(confusion_matrix(y_test, Y_predict3))"
   ]
  },
  {
   "cell_type": "code",
   "execution_count": 41,
   "metadata": {},
   "outputs": [
    {
     "name": "stdout",
     "output_type": "stream",
     "text": [
      "[2 5 8]\n"
     ]
    }
   ],
   "source": [
    "print(np.unique(Y_predict3))"
   ]
  },
  {
   "cell_type": "markdown",
   "metadata": {},
   "source": [
    "# CONCLUSION"
   ]
  },
  {
   "cell_type": "markdown",
   "metadata": {},
   "source": [
    "We have seen that using the up-sampling technique to create a balanced dataset improves the accuracy of the model as well as the RMSE. It would be interesting to test the preformance of the model on unseen test data. Another way to balance a dataset if to use the down-sampling technique. You can also explore using penalized ML algorithms and test their effectiveness in improving model accuracy as recommended in the article mentioned earlier."
   ]
  }
 ],
 "metadata": {
  "kernelspec": {
   "display_name": "Python 3",
   "language": "python",
   "name": "python3"
  },
  "language_info": {
   "codemirror_mode": {
    "name": "ipython",
    "version": 3
   },
   "file_extension": ".py",
   "mimetype": "text/x-python",
   "name": "python",
   "nbconvert_exporter": "python",
   "pygments_lexer": "ipython3",
   "version": "3.7.0"
  }
 },
 "nbformat": 4,
 "nbformat_minor": 2
}
